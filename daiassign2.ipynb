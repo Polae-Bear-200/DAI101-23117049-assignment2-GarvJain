{
  "nbformat": 4,
  "nbformat_minor": 0,
  "metadata": {
    "colab": {
      "provenance": [],
      "authorship_tag": "ABX9TyMfJ4ihFg+o+ph213ECaKbr",
      "include_colab_link": true
    },
    "kernelspec": {
      "name": "python3",
      "display_name": "Python 3"
    },
    "language_info": {
      "name": "python"
    }
  },
  "cells": [
    {
      "cell_type": "markdown",
      "metadata": {
        "id": "view-in-github",
        "colab_type": "text"
      },
      "source": [
        "<a href=\"https://colab.research.google.com/github/Polae-Bear-200/DAI101-23117049-assignment2-GarvJain/blob/main/daiassign2.ipynb\" target=\"_parent\"><img src=\"https://colab.research.google.com/assets/colab-badge.svg\" alt=\"Open In Colab\"/></a>"
      ]
    },
    {
      "cell_type": "code",
      "execution_count": 1,
      "metadata": {
        "id": "rI5ncixKgSyN"
      },
      "outputs": [],
      "source": [
        "import numpy as np\n",
        "import pandas as pd"
      ]
    },
    {
      "cell_type": "code",
      "source": [
        "df = pd.read_csv('/content/tips (data for regression problem).csv')"
      ],
      "metadata": {
        "id": "YEzvf4YohOGM"
      },
      "execution_count": 2,
      "outputs": []
    },
    {
      "cell_type": "code",
      "source": [
        "import seaborn as sns\n",
        "import matplotlib.pyplot as plt\n",
        "import statsmodels.api as sm\n",
        "import statsmodels.stats.api as sms\n",
        "from sklearn.metrics import mean_squared_error, r2_score\n",
        "from sklearn.model_selection import train_test_split\n",
        "from sklearn.linear_model import LinearRegression, Ridge, Lasso\n",
        "from sklearn.tree import DecisionTreeRegressor\n",
        "from sklearn.ensemble import RandomForestRegressor\n",
        "from sklearn.svm import SVR\n",
        "from sklearn.neighbors import KNeighborsRegressor\n",
        "from sklearn.metrics import mean_squared_error, r2_score, accuracy_score\n"
      ],
      "metadata": {
        "id": "USu8ecDMhYNg"
      },
      "execution_count": 3,
      "outputs": []
    },
    {
      "cell_type": "code",
      "source": [
        "df.head()"
      ],
      "metadata": {
        "colab": {
          "base_uri": "https://localhost:8080/",
          "height": 206
        },
        "id": "wyTvCHJoiztt",
        "outputId": "a2929e47-d77f-4352-f2d7-4312dbc45197"
      },
      "execution_count": 4,
      "outputs": [
        {
          "output_type": "execute_result",
          "data": {
            "text/plain": [
              "   total_bill   tip     sex smoker  day    time  size\n",
              "0       16.99  1.01  Female     No  Sun  Dinner     2\n",
              "1       10.34  1.66    Male     No  Sun  Dinner     3\n",
              "2       21.01  3.50    Male     No  Sun  Dinner     3\n",
              "3       23.68  3.31    Male     No  Sun  Dinner     2\n",
              "4       24.59  3.61  Female     No  Sun  Dinner     4"
            ],
            "text/html": [
              "\n",
              "  <div id=\"df-887f6fc9-888e-4020-be69-5c15241e674d\" class=\"colab-df-container\">\n",
              "    <div>\n",
              "<style scoped>\n",
              "    .dataframe tbody tr th:only-of-type {\n",
              "        vertical-align: middle;\n",
              "    }\n",
              "\n",
              "    .dataframe tbody tr th {\n",
              "        vertical-align: top;\n",
              "    }\n",
              "\n",
              "    .dataframe thead th {\n",
              "        text-align: right;\n",
              "    }\n",
              "</style>\n",
              "<table border=\"1\" class=\"dataframe\">\n",
              "  <thead>\n",
              "    <tr style=\"text-align: right;\">\n",
              "      <th></th>\n",
              "      <th>total_bill</th>\n",
              "      <th>tip</th>\n",
              "      <th>sex</th>\n",
              "      <th>smoker</th>\n",
              "      <th>day</th>\n",
              "      <th>time</th>\n",
              "      <th>size</th>\n",
              "    </tr>\n",
              "  </thead>\n",
              "  <tbody>\n",
              "    <tr>\n",
              "      <th>0</th>\n",
              "      <td>16.99</td>\n",
              "      <td>1.01</td>\n",
              "      <td>Female</td>\n",
              "      <td>No</td>\n",
              "      <td>Sun</td>\n",
              "      <td>Dinner</td>\n",
              "      <td>2</td>\n",
              "    </tr>\n",
              "    <tr>\n",
              "      <th>1</th>\n",
              "      <td>10.34</td>\n",
              "      <td>1.66</td>\n",
              "      <td>Male</td>\n",
              "      <td>No</td>\n",
              "      <td>Sun</td>\n",
              "      <td>Dinner</td>\n",
              "      <td>3</td>\n",
              "    </tr>\n",
              "    <tr>\n",
              "      <th>2</th>\n",
              "      <td>21.01</td>\n",
              "      <td>3.50</td>\n",
              "      <td>Male</td>\n",
              "      <td>No</td>\n",
              "      <td>Sun</td>\n",
              "      <td>Dinner</td>\n",
              "      <td>3</td>\n",
              "    </tr>\n",
              "    <tr>\n",
              "      <th>3</th>\n",
              "      <td>23.68</td>\n",
              "      <td>3.31</td>\n",
              "      <td>Male</td>\n",
              "      <td>No</td>\n",
              "      <td>Sun</td>\n",
              "      <td>Dinner</td>\n",
              "      <td>2</td>\n",
              "    </tr>\n",
              "    <tr>\n",
              "      <th>4</th>\n",
              "      <td>24.59</td>\n",
              "      <td>3.61</td>\n",
              "      <td>Female</td>\n",
              "      <td>No</td>\n",
              "      <td>Sun</td>\n",
              "      <td>Dinner</td>\n",
              "      <td>4</td>\n",
              "    </tr>\n",
              "  </tbody>\n",
              "</table>\n",
              "</div>\n",
              "    <div class=\"colab-df-buttons\">\n",
              "\n",
              "  <div class=\"colab-df-container\">\n",
              "    <button class=\"colab-df-convert\" onclick=\"convertToInteractive('df-887f6fc9-888e-4020-be69-5c15241e674d')\"\n",
              "            title=\"Convert this dataframe to an interactive table.\"\n",
              "            style=\"display:none;\">\n",
              "\n",
              "  <svg xmlns=\"http://www.w3.org/2000/svg\" height=\"24px\" viewBox=\"0 -960 960 960\">\n",
              "    <path d=\"M120-120v-720h720v720H120Zm60-500h600v-160H180v160Zm220 220h160v-160H400v160Zm0 220h160v-160H400v160ZM180-400h160v-160H180v160Zm440 0h160v-160H620v160ZM180-180h160v-160H180v160Zm440 0h160v-160H620v160Z\"/>\n",
              "  </svg>\n",
              "    </button>\n",
              "\n",
              "  <style>\n",
              "    .colab-df-container {\n",
              "      display:flex;\n",
              "      gap: 12px;\n",
              "    }\n",
              "\n",
              "    .colab-df-convert {\n",
              "      background-color: #E8F0FE;\n",
              "      border: none;\n",
              "      border-radius: 50%;\n",
              "      cursor: pointer;\n",
              "      display: none;\n",
              "      fill: #1967D2;\n",
              "      height: 32px;\n",
              "      padding: 0 0 0 0;\n",
              "      width: 32px;\n",
              "    }\n",
              "\n",
              "    .colab-df-convert:hover {\n",
              "      background-color: #E2EBFA;\n",
              "      box-shadow: 0px 1px 2px rgba(60, 64, 67, 0.3), 0px 1px 3px 1px rgba(60, 64, 67, 0.15);\n",
              "      fill: #174EA6;\n",
              "    }\n",
              "\n",
              "    .colab-df-buttons div {\n",
              "      margin-bottom: 4px;\n",
              "    }\n",
              "\n",
              "    [theme=dark] .colab-df-convert {\n",
              "      background-color: #3B4455;\n",
              "      fill: #D2E3FC;\n",
              "    }\n",
              "\n",
              "    [theme=dark] .colab-df-convert:hover {\n",
              "      background-color: #434B5C;\n",
              "      box-shadow: 0px 1px 3px 1px rgba(0, 0, 0, 0.15);\n",
              "      filter: drop-shadow(0px 1px 2px rgba(0, 0, 0, 0.3));\n",
              "      fill: #FFFFFF;\n",
              "    }\n",
              "  </style>\n",
              "\n",
              "    <script>\n",
              "      const buttonEl =\n",
              "        document.querySelector('#df-887f6fc9-888e-4020-be69-5c15241e674d button.colab-df-convert');\n",
              "      buttonEl.style.display =\n",
              "        google.colab.kernel.accessAllowed ? 'block' : 'none';\n",
              "\n",
              "      async function convertToInteractive(key) {\n",
              "        const element = document.querySelector('#df-887f6fc9-888e-4020-be69-5c15241e674d');\n",
              "        const dataTable =\n",
              "          await google.colab.kernel.invokeFunction('convertToInteractive',\n",
              "                                                    [key], {});\n",
              "        if (!dataTable) return;\n",
              "\n",
              "        const docLinkHtml = 'Like what you see? Visit the ' +\n",
              "          '<a target=\"_blank\" href=https://colab.research.google.com/notebooks/data_table.ipynb>data table notebook</a>'\n",
              "          + ' to learn more about interactive tables.';\n",
              "        element.innerHTML = '';\n",
              "        dataTable['output_type'] = 'display_data';\n",
              "        await google.colab.output.renderOutput(dataTable, element);\n",
              "        const docLink = document.createElement('div');\n",
              "        docLink.innerHTML = docLinkHtml;\n",
              "        element.appendChild(docLink);\n",
              "      }\n",
              "    </script>\n",
              "  </div>\n",
              "\n",
              "\n",
              "<div id=\"df-5cd50675-4374-4612-a9af-3a06b7f721c1\">\n",
              "  <button class=\"colab-df-quickchart\" onclick=\"quickchart('df-5cd50675-4374-4612-a9af-3a06b7f721c1')\"\n",
              "            title=\"Suggest charts\"\n",
              "            style=\"display:none;\">\n",
              "\n",
              "<svg xmlns=\"http://www.w3.org/2000/svg\" height=\"24px\"viewBox=\"0 0 24 24\"\n",
              "     width=\"24px\">\n",
              "    <g>\n",
              "        <path d=\"M19 3H5c-1.1 0-2 .9-2 2v14c0 1.1.9 2 2 2h14c1.1 0 2-.9 2-2V5c0-1.1-.9-2-2-2zM9 17H7v-7h2v7zm4 0h-2V7h2v10zm4 0h-2v-4h2v4z\"/>\n",
              "    </g>\n",
              "</svg>\n",
              "  </button>\n",
              "\n",
              "<style>\n",
              "  .colab-df-quickchart {\n",
              "      --bg-color: #E8F0FE;\n",
              "      --fill-color: #1967D2;\n",
              "      --hover-bg-color: #E2EBFA;\n",
              "      --hover-fill-color: #174EA6;\n",
              "      --disabled-fill-color: #AAA;\n",
              "      --disabled-bg-color: #DDD;\n",
              "  }\n",
              "\n",
              "  [theme=dark] .colab-df-quickchart {\n",
              "      --bg-color: #3B4455;\n",
              "      --fill-color: #D2E3FC;\n",
              "      --hover-bg-color: #434B5C;\n",
              "      --hover-fill-color: #FFFFFF;\n",
              "      --disabled-bg-color: #3B4455;\n",
              "      --disabled-fill-color: #666;\n",
              "  }\n",
              "\n",
              "  .colab-df-quickchart {\n",
              "    background-color: var(--bg-color);\n",
              "    border: none;\n",
              "    border-radius: 50%;\n",
              "    cursor: pointer;\n",
              "    display: none;\n",
              "    fill: var(--fill-color);\n",
              "    height: 32px;\n",
              "    padding: 0;\n",
              "    width: 32px;\n",
              "  }\n",
              "\n",
              "  .colab-df-quickchart:hover {\n",
              "    background-color: var(--hover-bg-color);\n",
              "    box-shadow: 0 1px 2px rgba(60, 64, 67, 0.3), 0 1px 3px 1px rgba(60, 64, 67, 0.15);\n",
              "    fill: var(--button-hover-fill-color);\n",
              "  }\n",
              "\n",
              "  .colab-df-quickchart-complete:disabled,\n",
              "  .colab-df-quickchart-complete:disabled:hover {\n",
              "    background-color: var(--disabled-bg-color);\n",
              "    fill: var(--disabled-fill-color);\n",
              "    box-shadow: none;\n",
              "  }\n",
              "\n",
              "  .colab-df-spinner {\n",
              "    border: 2px solid var(--fill-color);\n",
              "    border-color: transparent;\n",
              "    border-bottom-color: var(--fill-color);\n",
              "    animation:\n",
              "      spin 1s steps(1) infinite;\n",
              "  }\n",
              "\n",
              "  @keyframes spin {\n",
              "    0% {\n",
              "      border-color: transparent;\n",
              "      border-bottom-color: var(--fill-color);\n",
              "      border-left-color: var(--fill-color);\n",
              "    }\n",
              "    20% {\n",
              "      border-color: transparent;\n",
              "      border-left-color: var(--fill-color);\n",
              "      border-top-color: var(--fill-color);\n",
              "    }\n",
              "    30% {\n",
              "      border-color: transparent;\n",
              "      border-left-color: var(--fill-color);\n",
              "      border-top-color: var(--fill-color);\n",
              "      border-right-color: var(--fill-color);\n",
              "    }\n",
              "    40% {\n",
              "      border-color: transparent;\n",
              "      border-right-color: var(--fill-color);\n",
              "      border-top-color: var(--fill-color);\n",
              "    }\n",
              "    60% {\n",
              "      border-color: transparent;\n",
              "      border-right-color: var(--fill-color);\n",
              "    }\n",
              "    80% {\n",
              "      border-color: transparent;\n",
              "      border-right-color: var(--fill-color);\n",
              "      border-bottom-color: var(--fill-color);\n",
              "    }\n",
              "    90% {\n",
              "      border-color: transparent;\n",
              "      border-bottom-color: var(--fill-color);\n",
              "    }\n",
              "  }\n",
              "</style>\n",
              "\n",
              "  <script>\n",
              "    async function quickchart(key) {\n",
              "      const quickchartButtonEl =\n",
              "        document.querySelector('#' + key + ' button');\n",
              "      quickchartButtonEl.disabled = true;  // To prevent multiple clicks.\n",
              "      quickchartButtonEl.classList.add('colab-df-spinner');\n",
              "      try {\n",
              "        const charts = await google.colab.kernel.invokeFunction(\n",
              "            'suggestCharts', [key], {});\n",
              "      } catch (error) {\n",
              "        console.error('Error during call to suggestCharts:', error);\n",
              "      }\n",
              "      quickchartButtonEl.classList.remove('colab-df-spinner');\n",
              "      quickchartButtonEl.classList.add('colab-df-quickchart-complete');\n",
              "    }\n",
              "    (() => {\n",
              "      let quickchartButtonEl =\n",
              "        document.querySelector('#df-5cd50675-4374-4612-a9af-3a06b7f721c1 button');\n",
              "      quickchartButtonEl.style.display =\n",
              "        google.colab.kernel.accessAllowed ? 'block' : 'none';\n",
              "    })();\n",
              "  </script>\n",
              "</div>\n",
              "\n",
              "    </div>\n",
              "  </div>\n"
            ],
            "application/vnd.google.colaboratory.intrinsic+json": {
              "type": "dataframe",
              "variable_name": "df",
              "summary": "{\n  \"name\": \"df\",\n  \"rows\": 244,\n  \"fields\": [\n    {\n      \"column\": \"total_bill\",\n      \"properties\": {\n        \"dtype\": \"number\",\n        \"std\": 8.902411954856856,\n        \"min\": 3.07,\n        \"max\": 50.81,\n        \"num_unique_values\": 229,\n        \"samples\": [\n          22.12,\n          20.23,\n          14.78\n        ],\n        \"semantic_type\": \"\",\n        \"description\": \"\"\n      }\n    },\n    {\n      \"column\": \"tip\",\n      \"properties\": {\n        \"dtype\": \"number\",\n        \"std\": 1.3836381890011826,\n        \"min\": 1.0,\n        \"max\": 10.0,\n        \"num_unique_values\": 123,\n        \"samples\": [\n          3.35,\n          1.5,\n          6.73\n        ],\n        \"semantic_type\": \"\",\n        \"description\": \"\"\n      }\n    },\n    {\n      \"column\": \"sex\",\n      \"properties\": {\n        \"dtype\": \"category\",\n        \"num_unique_values\": 2,\n        \"samples\": [\n          \"Male\",\n          \"Female\"\n        ],\n        \"semantic_type\": \"\",\n        \"description\": \"\"\n      }\n    },\n    {\n      \"column\": \"smoker\",\n      \"properties\": {\n        \"dtype\": \"category\",\n        \"num_unique_values\": 2,\n        \"samples\": [\n          \"Yes\",\n          \"No\"\n        ],\n        \"semantic_type\": \"\",\n        \"description\": \"\"\n      }\n    },\n    {\n      \"column\": \"day\",\n      \"properties\": {\n        \"dtype\": \"category\",\n        \"num_unique_values\": 4,\n        \"samples\": [\n          \"Sat\",\n          \"Fri\"\n        ],\n        \"semantic_type\": \"\",\n        \"description\": \"\"\n      }\n    },\n    {\n      \"column\": \"time\",\n      \"properties\": {\n        \"dtype\": \"category\",\n        \"num_unique_values\": 2,\n        \"samples\": [\n          \"Lunch\",\n          \"Dinner\"\n        ],\n        \"semantic_type\": \"\",\n        \"description\": \"\"\n      }\n    },\n    {\n      \"column\": \"size\",\n      \"properties\": {\n        \"dtype\": \"number\",\n        \"std\": 0,\n        \"min\": 1,\n        \"max\": 6,\n        \"num_unique_values\": 6,\n        \"samples\": [\n          2,\n          3\n        ],\n        \"semantic_type\": \"\",\n        \"description\": \"\"\n      }\n    }\n  ]\n}"
            }
          },
          "metadata": {},
          "execution_count": 4
        }
      ]
    },
    {
      "cell_type": "code",
      "source": [
        "df = df.drop_duplicates()"
      ],
      "metadata": {
        "id": "Jz-PdxrO3GAZ"
      },
      "execution_count": 5,
      "outputs": []
    },
    {
      "cell_type": "code",
      "source": [
        "from sklearn.preprocessing import LabelEncoder\n",
        "\n",
        "# Initialize label encoder\n",
        "label_encoder = LabelEncoder()\n",
        "\n",
        "# Apply label encoding to each column\n",
        "df['sex'] = label_encoder.fit_transform(df['sex'])\n",
        "df['time'] = label_encoder.fit_transform(df['time'])\n",
        "df['day'] = label_encoder.fit_transform(df['day'])\n",
        "df['smoker'] = label_encoder.fit_transform(df['smoker'])"
      ],
      "metadata": {
        "colab": {
          "base_uri": "https://localhost:8080/"
        },
        "id": "qQbHREuenEY0",
        "outputId": "977fb0b2-2e74-4d4a-8011-3f9b3f6dad56"
      },
      "execution_count": 6,
      "outputs": [
        {
          "output_type": "stream",
          "name": "stderr",
          "text": [
            "<ipython-input-6-38e15ee951fc>:7: SettingWithCopyWarning: \n",
            "A value is trying to be set on a copy of a slice from a DataFrame.\n",
            "Try using .loc[row_indexer,col_indexer] = value instead\n",
            "\n",
            "See the caveats in the documentation: https://pandas.pydata.org/pandas-docs/stable/user_guide/indexing.html#returning-a-view-versus-a-copy\n",
            "  df['sex'] = label_encoder.fit_transform(df['sex'])\n",
            "<ipython-input-6-38e15ee951fc>:8: SettingWithCopyWarning: \n",
            "A value is trying to be set on a copy of a slice from a DataFrame.\n",
            "Try using .loc[row_indexer,col_indexer] = value instead\n",
            "\n",
            "See the caveats in the documentation: https://pandas.pydata.org/pandas-docs/stable/user_guide/indexing.html#returning-a-view-versus-a-copy\n",
            "  df['time'] = label_encoder.fit_transform(df['time'])\n",
            "<ipython-input-6-38e15ee951fc>:9: SettingWithCopyWarning: \n",
            "A value is trying to be set on a copy of a slice from a DataFrame.\n",
            "Try using .loc[row_indexer,col_indexer] = value instead\n",
            "\n",
            "See the caveats in the documentation: https://pandas.pydata.org/pandas-docs/stable/user_guide/indexing.html#returning-a-view-versus-a-copy\n",
            "  df['day'] = label_encoder.fit_transform(df['day'])\n",
            "<ipython-input-6-38e15ee951fc>:10: SettingWithCopyWarning: \n",
            "A value is trying to be set on a copy of a slice from a DataFrame.\n",
            "Try using .loc[row_indexer,col_indexer] = value instead\n",
            "\n",
            "See the caveats in the documentation: https://pandas.pydata.org/pandas-docs/stable/user_guide/indexing.html#returning-a-view-versus-a-copy\n",
            "  df['smoker'] = label_encoder.fit_transform(df['smoker'])\n"
          ]
        }
      ]
    },
    {
      "cell_type": "markdown",
      "source": [
        "check the relationship between total_bill and tip:"
      ],
      "metadata": {
        "id": "s_75C23MmBsX"
      }
    },
    {
      "cell_type": "code",
      "source": [
        "sns.scatterplot(x='total_bill', y='tip', data=df,hue =\"sex\")\n",
        "plt.title('Scatter Plot of Total Bill vs Tip')\n",
        "plt.show()\n"
      ],
      "metadata": {
        "colab": {
          "base_uri": "https://localhost:8080/",
          "height": 472
        },
        "id": "oFHe8KGimCl1",
        "outputId": "b867928f-49cb-405a-9598-a46c38ae5a2b"
      },
      "execution_count": 7,
      "outputs": [
        {
          "output_type": "display_data",
          "data": {
            "text/plain": [
              "<Figure size 640x480 with 1 Axes>"
            ],
            "image/png": "[encoded data removed]"
          },
          "metadata": {}
        }
      ]
    },
    {
      "cell_type": "code",
      "source": [
        "sns.heatmap(df.corr(), annot=True, cmap='coolwarm')\n",
        "plt.title('Correlation Matrix')\n",
        "plt.show()"
      ],
      "metadata": {
        "colab": {
          "base_uri": "https://localhost:8080/",
          "height": 452
        },
        "id": "nVsxVKpkmQyz",
        "outputId": "4d8c6863-293f-44b9-be04-320a0f11515d"
      },
      "execution_count": 8,
      "outputs": [
        {
          "output_type": "display_data",
          "data": {
            "text/plain": [
              "<Figure size 640x480 with 2 Axes>"
            ],
            "image/png": "[encoded data removed]"
          },
          "metadata": {}
        }
      ]
    },
    {
      "cell_type": "markdown",
      "source": [
        "total_bill and tip have a strong positive correlation (0.68) same with size and tip"
      ],
      "metadata": {
        "id": "QJOphzhxphLy"
      }
    },
    {
      "cell_type": "code",
      "source": [
        "from statsmodels.stats.diagnostic import linear_rainbow\n",
        "X = df[['total_bill', 'size']]  # Choose numerical features for predictors\n",
        "X = sm.add_constant(X)  # Add a constant for intercept\n",
        "y = df['tip']  # Define target variable\n",
        "\n",
        "\n",
        "model = sm.OLS(y, X).fit()\n",
        "\n",
        "rainbow_statistic, rainbow_p_value = linear_rainbow(model)\n",
        "print(f\"Rainbow test statistic: {rainbow_statistic}, p-value: {rainbow_p_value}\")\n",
        "\n",
        "\n",
        "if rainbow_p_value > 0.05:\n",
        "    print(\"The linearity assumption holds (p > 0.05).\")\n",
        "else:\n",
        "    print(\"The linearity assumption may be violated (p <= 0.05).\")"
      ],
      "metadata": {
        "colab": {
          "base_uri": "https://localhost:8080/"
        },
        "id": "Wj_VswY8pl8C",
        "outputId": "1c84a1f4-4130-43cc-9fbb-6825a9807319"
      },
      "execution_count": 9,
      "outputs": [
        {
          "output_type": "stream",
          "name": "stdout",
          "text": [
            "Rainbow test statistic: 1.2653810872757194, p-value: 0.0997456046936553\n",
            "The linearity assumption holds (p > 0.05).\n"
          ]
        }
      ]
    },
    {
      "cell_type": "code",
      "source": [
        "sns.barplot(x='day', y='tip', data=df, hue='time')\n",
        "plt.xlabel('Day')\n",
        "plt.ylabel('Tip')\n",
        "plt.title('Line Plot of Tips by Day')\n",
        "plt.show()"
      ],
      "metadata": {
        "colab": {
          "base_uri": "https://localhost:8080/",
          "height": 472
        },
        "id": "BGxOyXLVrDWE",
        "outputId": "327456b7-078e-47d5-9a77-03c8115b2ff4"
      },
      "execution_count": 10,
      "outputs": [
        {
          "output_type": "display_data",
          "data": {
            "text/plain": [
              "<Figure size 640x480 with 1 Axes>"
            ],
            "image/png": "[encoded data removed]"
          },
          "metadata": {}
        }
      ]
    },
    {
      "cell_type": "code",
      "source": [
        "X = df.drop('tip', axis=1)\n",
        "y = df['tip']"
      ],
      "metadata": {
        "id": "8gkOw9MxrTSm"
      },
      "execution_count": 11,
      "outputs": []
    },
    {
      "cell_type": "code",
      "source": [
        "X_train, X_test, y_train, y_test = train_test_split(X, y, test_size=0.3, random_state=42)"
      ],
      "metadata": {
        "id": "cLjRuD-TtC4B"
      },
      "execution_count": 30,
      "outputs": []
    },
    {
      "cell_type": "code",
      "source": [
        "def train_evaluate_model(model, X_train, X_test, y_train, y_test):\n",
        "    model.fit(X_train, y_train)\n",
        "    y_pred = model.predict(X_test)\n",
        "\n",
        "    mse = mean_squared_error(y_test, y_pred)\n",
        "    r2 = r2_score(y_test, y_pred)\n",
        "    percentage_accuracy = 100 - (100 * (abs(y_test - y_pred) / y_test).mean())\n",
        "\n",
        "    return mse, r2, percentage_accuracy"
      ],
      "metadata": {
        "id": "KLI8RihUtHeO"
      },
      "execution_count": 39,
      "outputs": []
    },
    {
      "cell_type": "code",
      "source": [
        "models = {\n",
        "    \"Linear Regression\": LinearRegression(),\n",
        "    \"Ridge Regression\": Ridge(alpha=1.0),\n",
        "    \"Lasso Regression\": Lasso(alpha=0.1),\n",
        "    \"Decision Tree\": DecisionTreeRegressor(max_depth=6),\n",
        "    \"Random Forest\": RandomForestRegressor(n_estimators=100, random_state=21),\n",
        "    \"Support Vector Regression\": SVR(),\n",
        "    \"K-Nearest Neighbors\": KNeighborsRegressor(n_neighbors=5)\n",
        "}"
      ],
      "metadata": {
        "id": "ftFTz1SEtnrE"
      },
      "execution_count": 59,
      "outputs": []
    },
    {
      "cell_type": "code",
      "source": [
        "\n",
        "from sklearn.model_selection import cross_val_score\n",
        "results = {}\n",
        "\n",
        "# evaluting through each model\n",
        "for name, model in models.items():\n",
        "    mse, r2, percentage_accuracy = train_evaluate_model(model, X_train, X_test, y_train, y_test)\n",
        "\n",
        "    results[name] = {'MSE': mse, 'R2': r2 , 'Percentage_Accuracy':percentage_accuracy}#storing the results as a dictionary\n",
        "\n",
        "\n",
        "df_results = pd.DataFrame(results).T  # transpose to get models as rows\n",
        "# Sort by MSE (lower is better)\n",
        "df_results_sorted_by_mse = df_results.sort_values(by=\"MSE\", ascending=True)\n",
        "print(\"\\nSorted by MSE:\")\n",
        "print(df_results_sorted_by_mse)\n",
        "\n",
        "# Sort by R² (higher is better)\n",
        "df_results_sorted_by_r2 = df_results.sort_values(by=\"R2\", ascending=False)\n",
        "print(\"\\nSorted by R²:\")\n",
        "print(df_results_sorted_by_r2)\n"
      ],
      "metadata": {
        "colab": {
          "base_uri": "https://localhost:8080/"
        },
        "id": "MPyCIP2-0W6U",
        "outputId": "12896601-bfd7-4af8-bb5e-7042a6b72975"
      },
      "execution_count": 60,
      "outputs": [
        {
          "output_type": "stream",
          "name": "stdout",
          "text": [
            "\n",
            "Sorted by MSE:\n",
            "                                MSE        R2  Percentage_Accuracy\n",
            "Lasso Regression           1.134537  0.454650            67.921322\n",
            "Ridge Regression           1.163879  0.440545            67.831807\n",
            "Linear Regression          1.165063  0.439976            67.822697\n",
            "Random Forest              1.176657  0.434404            65.825834\n",
            "Decision Tree              1.229002  0.409242            64.737459\n",
            "Support Vector Regression  1.336510  0.357565            68.980462\n",
            "K-Nearest Neighbors        1.455022  0.300599            63.722105\n",
            "\n",
            "Sorted by R²:\n",
            "                                MSE        R2  Percentage_Accuracy\n",
            "Lasso Regression           1.134537  0.454650            67.921322\n",
            "Ridge Regression           1.163879  0.440545            67.831807\n",
            "Linear Regression          1.165063  0.439976            67.822697\n",
            "Random Forest              1.176657  0.434404            65.825834\n",
            "Decision Tree              1.229002  0.409242            64.737459\n",
            "Support Vector Regression  1.336510  0.357565            68.980462\n",
            "K-Nearest Neighbors        1.455022  0.300599            63.722105\n"
          ]
        }
      ]
    },
    {
      "cell_type": "markdown",
      "source": [
        "now by analysing the output we can say linear, lasso and ridge are good , as they have low mse and high r2 , now we will tune the hyperparameters\n",
        "using cross validiation for lasso and svr\n"
      ],
      "metadata": {
        "id": "kOtvV-9s4cFA"
      }
    },
    {
      "cell_type": "markdown",
      "source": [
        "first we will tune parameters of ridge"
      ],
      "metadata": {
        "id": "nvpNG2zJEMrV"
      }
    },
    {
      "cell_type": "code",
      "source": [
        "from sklearn.linear_model import RidgeCV\n",
        "alphas = [0.1, 1.0, 10.0,50.0, 100.0]\n",
        "ridge_cv = RidgeCV(alphas=alphas, cv=5, scoring='neg_mean_squared_error')\n",
        "\n",
        "mse, r2, percentage_accuracy = train_evaluate_model(ridge_cv, X_train, X_test, y_train, y_test)\n",
        "\n",
        "# Display results\n",
        "print(\"Best alpha:\", ridge_cv.alpha_)\n",
        "print(\"Mean Squared Error:\", mse)\n",
        "print(\"R² score:\", r2)\n",
        "print(\"Percentage Accuracy:\", percentage_accuracy)"
      ],
      "metadata": {
        "colab": {
          "base_uri": "https://localhost:8080/"
        },
        "id": "Z7Rb3N-VEQJb",
        "outputId": "3cce01f3-f452-4ff2-e371-9899af9465c3"
      },
      "execution_count": 48,
      "outputs": [
        {
          "output_type": "stream",
          "name": "stdout",
          "text": [
            "Best alpha: 50.0\n",
            "Mean Squared Error: 1.1420021637695066\n",
            "R² score: 0.4510614971829525\n",
            "Percentage Accuracy: 67.97196793992137\n"
          ]
        }
      ]
    },
    {
      "cell_type": "markdown",
      "source": [
        "trying alpha in range 40 - 80"
      ],
      "metadata": {
        "id": "lcbsIi54JU9W"
      }
    },
    {
      "cell_type": "code",
      "source": [
        "from sklearn.linear_model import RidgeCV\n",
        "alphas = [40.0, 50.0,60.0, 70.0, 80.0]\n",
        "ridge_cv = RidgeCV(alphas=alphas, cv=5, scoring='neg_mean_squared_error')\n",
        "\n",
        "mse, r2, percentage_accuracy = train_evaluate_model(ridge_cv, X_train, X_test, y_train, y_test)\n",
        "\n",
        "# Display results\n",
        "print(\"Best alpha:\", ridge_cv.alpha_)\n",
        "print(\"Mean Squared Error:\", mse)\n",
        "print(\"R² score:\", r2)\n",
        "print(\"Percentage Accuracy:\", percentage_accuracy)"
      ],
      "metadata": {
        "colab": {
          "base_uri": "https://localhost:8080/"
        },
        "id": "LqLoD33cJUn2",
        "outputId": "51faacb5-2d87-4aad-a6c8-e3d50dd9ce10"
      },
      "execution_count": 49,
      "outputs": [
        {
          "output_type": "stream",
          "name": "stdout",
          "text": [
            "Best alpha: 60.0\n",
            "Mean Squared Error: 1.1406627723516591\n",
            "R² score: 0.45170531690845306\n",
            "Percentage Accuracy: 67.96644917763965\n"
          ]
        }
      ]
    },
    {
      "cell_type": "markdown",
      "source": [
        "Fine tuning hyperparameters for lasso regression"
      ],
      "metadata": {
        "id": "eLgX9AjZJ2wp"
      }
    },
    {
      "cell_type": "code",
      "source": [
        "from sklearn.linear_model import LassoCV\n",
        "\n",
        "lasso_cv = LassoCV(cv=5, random_state=42)\n",
        "\n",
        "# Train and evaluate the model\n",
        "mse, r2, percentage_accuracy = train_evaluate_model(lasso_cv, X_train, X_test, y_train, y_test)\n",
        "\n",
        "# Display results\n",
        "print(\"Best alpha:\", lasso_cv.alpha_)\n",
        "print(\"Mean Squared Error:\", mse)\n",
        "print(\"R² score:\", r2)\n",
        "print(\"Percentage Accuracy:\", percentage_accuracy)"
      ],
      "metadata": {
        "colab": {
          "base_uri": "https://localhost:8080/"
        },
        "id": "iPLQs4CfHkcE",
        "outputId": "48aa7530-fa6f-45f6-f9a9-e8875e14702c"
      },
      "execution_count": 54,
      "outputs": [
        {
          "output_type": "stream",
          "name": "stdout",
          "text": [
            "Best alpha: 0.06198619991486256\n",
            "Mean Squared Error: 1.1286249386157274\n",
            "R² score: 0.4574916723443755\n",
            "Percentage Accuracy: 68.04100329820258\n"
          ]
        }
      ]
    },
    {
      "cell_type": "markdown",
      "source": [
        "now for linear regression"
      ],
      "metadata": {
        "id": "_8mW1pBxMQmC"
      }
    },
    {
      "cell_type": "code",
      "source": [
        "from sklearn.preprocessing import StandardScaler\n",
        "def train_evaluate_linear(X_train, X_test, y_train, y_test, hyperparameters):\n",
        "    # Iterate through all combinations of hyperparameters\n",
        "    best_mse = float('inf')\n",
        "    best_r2 = -float('inf')\n",
        "    best_accuracy = -float('inf')\n",
        "    best_params = None\n",
        "\n",
        "    for params in hyperparameters:\n",
        "        # Extract hyperparameters\n",
        "        standardize = params['standardize']\n",
        "        fit_intercept = params['fit_intercept']\n",
        "\n",
        "        # Standardize the data if needed\n",
        "        if standardize:\n",
        "            scaler = StandardScaler()\n",
        "            X_train_scaled = scaler.fit_transform(X_train)\n",
        "            X_test_scaled = scaler.transform(X_test)\n",
        "        else:\n",
        "            X_train_scaled = X_train\n",
        "            X_test_scaled = X_test\n",
        "\n",
        "        model = LinearRegression(fit_intercept=fit_intercept)\n",
        "        mse, r2, percentage_accuracy = train_evaluate_model(model, X_train_scaled, X_test_scaled, y_train, y_test)\n",
        "\n",
        "        # Store the best model and hyperparameters based on MSE\n",
        "        if mse < best_mse:\n",
        "            best_mse = mse\n",
        "            best_r2 = r2\n",
        "            best_accuracy = percentage_accuracy\n",
        "            best_params = params\n",
        "\n",
        "    # Print the best results\n",
        "    print(\"Best Parameters:\", best_params)\n",
        "    print(\"Best Mean Squared Error:\", best_mse)\n",
        "    print(\"Best R² score:\", best_r2)\n",
        "    print(\"Best Percentage Accuracy:\", best_accuracy)\n",
        "\n",
        "# Define a hyperparameter matrix for experimentation\n",
        "hyperparameters = [\n",
        "    {'standardize': True, 'fit_intercept': True},\n",
        "    {'standardize': True, 'fit_intercept': False},\n",
        "    {'standardize': False, 'fit_intercept': True},\n",
        "    {'standardize': False, 'fit_intercept': False}\n",
        "]\n",
        "\n",
        "# Train and evaluate the linear regression model with the hyperparameter matrix\n",
        "train_evaluate_linear(X_train, X_test, y_train, y_test, hyperparameters)"
      ],
      "metadata": {
        "colab": {
          "base_uri": "https://localhost:8080/"
        },
        "id": "RlvOOvzYLgbH",
        "outputId": "c3164cf8-24b0-4064-f670-f95101a86154"
      },
      "execution_count": 62,
      "outputs": [
        {
          "output_type": "stream",
          "name": "stdout",
          "text": [
            "Best Parameters: {'standardize': False, 'fit_intercept': True}\n",
            "Best Mean Squared Error: 1.165063407664627\n",
            "Best R² score: 0.43997640023786366\n",
            "Best Percentage Accuracy: 67.82269729923372\n"
          ]
        }
      ]
    },
    {
      "cell_type": "markdown",
      "source": [
        "so we can say best is lasso"
      ],
      "metadata": {
        "id": "AGhJQQhxPlQO"
      }
    },
    {
      "cell_type": "code",
      "source": [],
      "metadata": {
        "id": "dvUDEE-ELv8b"
      },
      "execution_count": null,
      "outputs": []
    }
  ]
}